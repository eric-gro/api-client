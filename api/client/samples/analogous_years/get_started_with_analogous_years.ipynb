{
 "cells": [
  {
   "cell_type": "markdown",
   "metadata": {},
   "source": [
    "# Analogous Years\n",
    "The Analogous Years application enables users to compare events from a set period of time, \n",
    "to those of the same date range in other years. The application will compute ranks of similarity between the specified period, and the same period from previous or future years.\n",
    "\n",
    "## Table of Contents <a class=\"anchor\" id=\"link-0.0\"></a>\n",
    "0. [Gro API Client](#link-0)\n",
    "    - [Import Gro Client And Analogous Years' Functions](#link-0.1)\n",
    "    - [Set Up Environment To Access Gro API](#link-0.2)\n",
    "- [Input](#link-1)\n",
    "    - [Gro Entities](#link-1.1)\n",
    "    - [Time Period](#link-1.2)\n",
    "- [Output](#link-2)\n",
    "- [Appendix](#link-3)\n",
    "    - [Methods Of Rank Calculation](#link-3.1)\n",
    "    - [Additional Options](#link-3.2)\n",
    "- [Report](#link-4)\n",
    "    - [Correlation Matrix](#link-4.1)\n",
    "    - [Scatterplots Between Ranks](#link-4.2)\n",
    "\n",
    "\n",
    "## 0. Gro API Client<a class=\"anchor\" id=\"link-0\"></a>\n",
    "\n",
    "### 0.1 Import Gro Client And Analogous Years' Functions<a class=\"anchor\" id=\"link-0.1\"></a>\n",
    "To get started with `Analogous Years`, users have to install `Gro API Client`\n",
    "as detailed [here](https://developers.gro-intelligence.com/installation.html). Following that users can run the following cell to import Gro client and some of the essential functions from the `analogous_years` package.\n"
   ]
  },
  {
   "cell_type": "code",
   "execution_count": 1,
   "metadata": {},
   "outputs": [
    {
     "name": "stderr",
     "output_type": "stream",
     "text": [
      "/Users/saikatdas/anaconda3/lib/python3.7/site-packages/statsmodels/compat/pandas.py:49: FutureWarning: The Panel class is removed from pandas. Accessing it from the top-level namespace will also be removed in the next version\n",
      "  data_klasses = (pandas.Series, pandas.DataFrame, pandas.Panel)\n"
     ]
    }
   ],
   "source": [
    "import os\n",
    "from api.client.gro_client import GroClient\n",
    "\n",
    "from api.client.samples.analogous_years import run_analogous_years\n",
    "from api.client.samples.analogous_years.lib import final_ranks_computation, get_transform_data"
   ]
  },
  {
   "cell_type": "markdown",
   "metadata": {},
   "source": [
    "### 0.2 Set Up Environment To Access Gro API<a class=\"anchor\" id=\"link-0.2\"></a>\n",
    "Assuming that users have saved the Gro API access token as an environment variable named `GROAPI_TOKEN` (and have imported `os` in the previous step), users may run the following cell to define `client` for interaction with API\n",
    "\n",
    "[Top](#link-0.0)"
   ]
  },
  {
   "cell_type": "code",
   "execution_count": 2,
   "metadata": {},
   "outputs": [],
   "source": [
    "API_HOST = 'api.gro-intelligence.com'\n",
    "ACCESS_TOKEN = os.environ['GROAPI_TOKEN']\n",
    "client = GroClient(API_HOST, ACCESS_TOKEN)"
   ]
  },
  {
   "cell_type": "markdown",
   "metadata": {},
   "source": [
    "## 1. Input<a class=\"anchor\" id=\"link-1\"></a>\n",
    "Multiple different inputs can be used in determining the ranks (refer to the appendix), but to compute these ranks, a user must provide:\n",
    "### 1.1 Gro Entities<a class=\"anchor\" id=\"link-1.1\"></a>\n",
    "For the program to work users have to provide single or multiple Gro-entities defined by `metric_id`, `item_id`, `source_id`, `frequency_id` for a particular region given by a `region_id`.\n",
    "If the user wants to know which period of time is most similar to the time period \n",
    "between 1<sup>st</sup> January 2019 and 31<sup>st</sup> October 2019 with respect to the\n",
    "following Gro-entities -\n",
    "1. Rainfall, TRMM (metric_id=2100031, item_id=2039, source_id=35, frequency_id=1)\n",
    "2. Land Temperature, MODIS (metric_id=2540047, item_id=3457, source_id=26, frequency_id=1)\n",
    "3. Soil moisture, SMOS (metric_id=15531082, item_id=7382, source_id=43, frequency_id=1)\n",
    "\n",
    "Note: `frequency_id`: 1 gives us daily values. In absence of daily values, \n",
    "the application up-samples to daily frequency(ies).\n",
    "[Continued..](#link-1.2)\n",
    "\n",
    "[Top](#link-0.0)"
   ]
  },
  {
   "cell_type": "code",
   "execution_count": 3,
   "metadata": {},
   "outputs": [],
   "source": [
    "# Rainfall (modeled) - Precipitation Quantity - US Corn Belt States (NASA TRMM 3B42RT)\n",
    "entity_1 = {'metric_id': 2100031, \n",
    "             'item_id': 2039, \n",
    "             'region_id': 100000100, \n",
    "             'partner_region_id': 0, \n",
    "             'source_id': 35, \n",
    "             'frequency_id': 1, \n",
    "             'unit_id': 2}\n",
    "# Land temperature (daytime, modeled) - Temperature - US Corn Belt States (NASA MODIS MOD11 LST)\n",
    "entity_2 = {'metric_id': 2540047, \n",
    "             'item_id': 3457, \n",
    "             'region_id': 100000100, \n",
    "             'partner_region_id': 0, \n",
    "             'source_id': 26, \n",
    "             'frequency_id': 1,\n",
    "             'unit_id': 36}\n",
    "\n",
    "# Soil moisture - Availability in soil (volume/volume) - US Corn Belt States (ESA SMOS CLF33D)\n",
    "entity_3 = {'metric_id': 15531082, \n",
    "            'item_id': 7382, \n",
    "            'region_id': 100000100, \n",
    "            'partner_region_id': 0, \n",
    "            'source_id': 43, \n",
    "            'frequency_id': 1}\n",
    "\n",
    "\n",
    "entities = [entity_1, entity_2, entity_3]\n"
   ]
  },
  {
   "cell_type": "markdown",
   "metadata": {},
   "source": [
    "## Input\n",
    "### 1.2 Time Period<a class=\"anchor\" id=\"link-1.2\"></a>\n",
    "The user must input a time period determined by an `initial_date` and a `final_date`. The two dates must be within 1 year of each other and in the `YYYY-MM-DD` format.\n",
    "\n",
    "[Top](#link-0.0)"
   ]
  },
  {
   "cell_type": "code",
   "execution_count": 4,
   "metadata": {},
   "outputs": [],
   "source": [
    "initial_date = '2019-01-01'\n",
    "final_date = '2019-10-31'"
   ]
  },
  {
   "cell_type": "markdown",
   "metadata": {},
   "source": [
    "## 2. Output<a class=\"anchor\" id=\"link-2\"></a>\n",
    "\n",
    "[Top](#link-0.0)"
   ]
  },
  {
   "cell_type": "code",
   "execution_count": 5,
   "metadata": {
    "scrolled": true
   },
   "outputs": [
    {
     "name": "stderr",
     "output_type": "stream",
     "text": [
      "/Users/saikatdas/api-client/api/client/samples/analogous_years/lib/get_transform_data.py:121: SettingWithCopyWarning: \n",
      "A value is trying to be set on a copy of a slice from a DataFrame.\n",
      "Try using .loc[row_indexer,col_indexer] = value instead\n",
      "\n",
      "See the caveats in the documentation: http://pandas.pydata.org/pandas-docs/stable/user_guide/indexing.html#returning-a-view-versus-a-copy\n",
      "  temp_df['period'] = dates_to_period_string(loop_initial_date, loop_final_date)\n",
      "Feature Extraction: 100%|██████████| 9/9 [00:01<00:00,  3.12it/s]\n",
      "/Users/saikatdas/api-client/api/client/samples/analogous_years/lib/get_transform_data.py:121: SettingWithCopyWarning: \n",
      "A value is trying to be set on a copy of a slice from a DataFrame.\n",
      "Try using .loc[row_indexer,col_indexer] = value instead\n",
      "\n",
      "See the caveats in the documentation: http://pandas.pydata.org/pandas-docs/stable/user_guide/indexing.html#returning-a-view-versus-a-copy\n",
      "  temp_df['period'] = dates_to_period_string(loop_initial_date, loop_final_date)\n",
      "Feature Extraction: 100%|██████████| 9/9 [00:01<00:00,  3.45it/s]\n",
      "/Users/saikatdas/api-client/api/client/samples/analogous_years/lib/get_transform_data.py:121: SettingWithCopyWarning: \n",
      "A value is trying to be set on a copy of a slice from a DataFrame.\n",
      "Try using .loc[row_indexer,col_indexer] = value instead\n",
      "\n",
      "See the caveats in the documentation: http://pandas.pydata.org/pandas-docs/stable/user_guide/indexing.html#returning-a-view-versus-a-copy\n",
      "  temp_df['period'] = dates_to_period_string(loop_initial_date, loop_final_date)\n",
      "Feature Extraction: 100%|██████████| 9/9 [00:01<00:00,  3.44it/s]\n",
      "\n",
      " Computing analogous years ranks for US Corn Belt States_Rainfall (modeled)_Land temperature (daytime, modeled)_Soil moisture_2019-01-01_2019-10-31 \n",
      "\n",
      "INFO:api.client.lib:\n",
      " Computing analogous years ranks for US Corn Belt States_Rainfall (modeled)_Land temperature (daytime, modeled)_Soil moisture_2019-01-01_2019-10-31 \n",
      "\n"
     ]
    },
    {
     "data": {
      "text/plain": [
       "period\n",
       "2011-01-01 to 2011-10-31    5\n",
       "2012-01-01 to 2012-10-31    9\n",
       "2013-01-01 to 2013-10-31    3\n",
       "2014-01-01 to 2014-10-31    6\n",
       "2015-01-01 to 2015-10-31    7\n",
       "2016-01-01 to 2016-10-31    2\n",
       "2017-01-01 to 2017-10-31    8\n",
       "2018-01-01 to 2018-10-31    4\n",
       "2019-01-01 to 2019-10-31    1\n",
       "Name: composite_rank, dtype: int64"
      ]
     },
     "execution_count": 5,
     "metadata": {},
     "output_type": "execute_result"
    }
   ],
   "source": [
    "file_name, result = final_ranks_computation.analogous_years(\n",
    "    client, entities, initial_date, final_date)\n",
    "result"
   ]
  },
  {
   "cell_type": "markdown",
   "metadata": {},
   "source": [
    "## 3. Appendix<a class=\"anchor\" id=\"link-3\"></a>\n",
    "### 3.1 Methods Of Rank Calculation<a class=\"anchor\" id=\"link-3.1\"></a>\n",
    "The analogy score between two different time periods can be measured in multiple ways. \n",
    "Here, the program can calculate ranks based on 2 primary approaches - \n",
    "1. Ranks based on differences between extracted features: \n",
    "    1. Distance between cumulative sums. \n",
    "    2. Distance between more features extracted from time series. \n",
    "    \n",
    "    Note: For the purpose of this package we have used `tsfresh` package to \n",
    "    extract data from time series. \n",
    "2. Point wise differences: \n",
    "    1. Euclidean distance between stacked time periods. \n",
    "    2. Dynamic Time Warping distance between stacked time periods.\n",
    "    \n",
    "Finally, the program returns a composite rank by default based on the default \n",
    "(`cumulative`, `euclidean`, `ts-features`) methods or user specified methods.\n",
    "\n",
    "[Top](#link-0.0)"
   ]
  },
  {
   "cell_type": "markdown",
   "metadata": {},
   "source": [
    "### 3.2 Additional Options<a class=\"anchor\" id=\"link-3.2\"></a>\n",
    "1. Methods: Users have an option to choose from the following methods for distance \n",
    "computation`cumulative, euclidean, ts-features, dtw`. The default methods for rank \n",
    "generation are `cumulative, euclidean, ts-features`. `dtw` method is intentionally \n",
    "left out of the default setting as it may take up-to 40 minutes to run dynamic time warping \n",
    "algorithm on one `item-metric` tuple and in many situations `dtw` ranks are highly \n",
    "correlated with the `euclidean` ranks.\n",
    "\n",
    "2. All Ranks: Users have an option to generate separate individual ranks or composite rank\n",
    "based on their methods list. By default only the composite rank will be generated.\n",
    "\n",
    "3. Multivariate El Niño Southern Oscillation (ENSO) index can also be included in the \n",
    "rank computation, along with the weight that the user wants to give for the ENSO index. \n",
    "The weight of ENSO index is set to 1 by default.\n",
    "\n",
    "4. Start Date: Users have an option to include time periods after a specified date. By \n",
    "default the earliest date from which data is available for all entities will be used to \n",
    "compute ranks.\n",
    "\n",
    "[Top](#link-0.0)"
   ]
  },
  {
   "cell_type": "code",
   "execution_count": 6,
   "metadata": {},
   "outputs": [
    {
     "name": "stderr",
     "output_type": "stream",
     "text": [
      "/Users/saikatdas/api-client/api/client/samples/analogous_years/lib/get_transform_data.py:121: SettingWithCopyWarning: \n",
      "A value is trying to be set on a copy of a slice from a DataFrame.\n",
      "Try using .loc[row_indexer,col_indexer] = value instead\n",
      "\n",
      "See the caveats in the documentation: http://pandas.pydata.org/pandas-docs/stable/user_guide/indexing.html#returning-a-view-versus-a-copy\n",
      "  temp_df['period'] = dates_to_period_string(loop_initial_date, loop_final_date)\n",
      "Feature Extraction: 100%|██████████| 5/5 [00:00<00:00,  2.70it/s]\n",
      "/Users/saikatdas/api-client/api/client/samples/analogous_years/lib/get_transform_data.py:121: SettingWithCopyWarning: \n",
      "A value is trying to be set on a copy of a slice from a DataFrame.\n",
      "Try using .loc[row_indexer,col_indexer] = value instead\n",
      "\n",
      "See the caveats in the documentation: http://pandas.pydata.org/pandas-docs/stable/user_guide/indexing.html#returning-a-view-versus-a-copy\n",
      "  temp_df['period'] = dates_to_period_string(loop_initial_date, loop_final_date)\n",
      "Feature Extraction: 100%|██████████| 5/5 [00:00<00:00,  2.79it/s]\n",
      "/Users/saikatdas/api-client/api/client/samples/analogous_years/lib/get_transform_data.py:121: SettingWithCopyWarning: \n",
      "A value is trying to be set on a copy of a slice from a DataFrame.\n",
      "Try using .loc[row_indexer,col_indexer] = value instead\n",
      "\n",
      "See the caveats in the documentation: http://pandas.pydata.org/pandas-docs/stable/user_guide/indexing.html#returning-a-view-versus-a-copy\n",
      "  temp_df['period'] = dates_to_period_string(loop_initial_date, loop_final_date)\n",
      "Feature Extraction: 100%|██████████| 5/5 [00:00<00:00,  2.90it/s]\n",
      "/Users/saikatdas/api-client/api/client/samples/analogous_years/lib/get_transform_data.py:121: SettingWithCopyWarning: \n",
      "A value is trying to be set on a copy of a slice from a DataFrame.\n",
      "Try using .loc[row_indexer,col_indexer] = value instead\n",
      "\n",
      "See the caveats in the documentation: http://pandas.pydata.org/pandas-docs/stable/user_guide/indexing.html#returning-a-view-versus-a-copy\n",
      "  temp_df['period'] = dates_to_period_string(loop_initial_date, loop_final_date)\n",
      "Feature Extraction: 100%|██████████| 5/5 [00:00<00:00,  2.93it/s]\n",
      "\n",
      " Computing analogous years ranks for US Corn Belt States_Rainfall (modeled)_Land temperature (daytime, modeled)_Soil moisture_Multivariate ENSO Index_2019-01-01_2019-10-31 \n",
      "\n",
      "INFO:api.client.lib:\n",
      " Computing analogous years ranks for US Corn Belt States_Rainfall (modeled)_Land temperature (daytime, modeled)_Soil moisture_Multivariate ENSO Index_2019-01-01_2019-10-31 \n",
      "\n"
     ]
    },
    {
     "data": {
      "text/html": [
       "<div>\n",
       "<style scoped>\n",
       "    .dataframe tbody tr th:only-of-type {\n",
       "        vertical-align: middle;\n",
       "    }\n",
       "\n",
       "    .dataframe tbody tr th {\n",
       "        vertical-align: top;\n",
       "    }\n",
       "\n",
       "    .dataframe thead th {\n",
       "        text-align: right;\n",
       "    }\n",
       "</style>\n",
       "<table border=\"1\" class=\"dataframe\">\n",
       "  <thead>\n",
       "    <tr style=\"text-align: right;\">\n",
       "      <th></th>\n",
       "      <th>cumulative_rank</th>\n",
       "      <th>euclidean_rank</th>\n",
       "      <th>dtw_rank</th>\n",
       "      <th>ts-features_rank</th>\n",
       "      <th>composite_rank</th>\n",
       "    </tr>\n",
       "    <tr>\n",
       "      <th>period</th>\n",
       "      <th></th>\n",
       "      <th></th>\n",
       "      <th></th>\n",
       "      <th></th>\n",
       "      <th></th>\n",
       "    </tr>\n",
       "  </thead>\n",
       "  <tbody>\n",
       "    <tr>\n",
       "      <th>2015-01-01 to 2015-10-31</th>\n",
       "      <td>4</td>\n",
       "      <td>3</td>\n",
       "      <td>4</td>\n",
       "      <td>3</td>\n",
       "      <td>4</td>\n",
       "    </tr>\n",
       "    <tr>\n",
       "      <th>2016-01-01 to 2016-10-31</th>\n",
       "      <td>3</td>\n",
       "      <td>2</td>\n",
       "      <td>2</td>\n",
       "      <td>2</td>\n",
       "      <td>3</td>\n",
       "    </tr>\n",
       "    <tr>\n",
       "      <th>2017-01-01 to 2017-10-31</th>\n",
       "      <td>5</td>\n",
       "      <td>5</td>\n",
       "      <td>5</td>\n",
       "      <td>5</td>\n",
       "      <td>5</td>\n",
       "    </tr>\n",
       "    <tr>\n",
       "      <th>2018-01-01 to 2018-10-31</th>\n",
       "      <td>2</td>\n",
       "      <td>4</td>\n",
       "      <td>3</td>\n",
       "      <td>4</td>\n",
       "      <td>2</td>\n",
       "    </tr>\n",
       "    <tr>\n",
       "      <th>2019-01-01 to 2019-10-31</th>\n",
       "      <td>1</td>\n",
       "      <td>1</td>\n",
       "      <td>1</td>\n",
       "      <td>1</td>\n",
       "      <td>1</td>\n",
       "    </tr>\n",
       "  </tbody>\n",
       "</table>\n",
       "</div>"
      ],
      "text/plain": [
       "                          cumulative_rank  euclidean_rank  dtw_rank  \\\n",
       "period                                                                \n",
       "2015-01-01 to 2015-10-31                4               3         4   \n",
       "2016-01-01 to 2016-10-31                3               2         2   \n",
       "2017-01-01 to 2017-10-31                5               5         5   \n",
       "2018-01-01 to 2018-10-31                2               4         3   \n",
       "2019-01-01 to 2019-10-31                1               1         1   \n",
       "\n",
       "                          ts-features_rank  composite_rank  \n",
       "period                                                      \n",
       "2015-01-01 to 2015-10-31                 3               4  \n",
       "2016-01-01 to 2016-10-31                 2               3  \n",
       "2017-01-01 to 2017-10-31                 5               5  \n",
       "2018-01-01 to 2018-10-31                 4               2  \n",
       "2019-01-01 to 2019-10-31                 1               1  "
      ]
     },
     "execution_count": 6,
     "metadata": {},
     "output_type": "execute_result"
    }
   ],
   "source": [
    "file_name, result = final_ranks_computation.analogous_years(\n",
    "    client, entities, initial_date, final_date, \n",
    "    methods_list=['cumulative', 'euclidean', 'ts-features', 'dtw'], \n",
    "    all_ranks=True, weights=[0.2, 0.3, 0.4], enso=True,\n",
    "    enso_weight=0.1, provided_start_date='2015-01-01')\n",
    "result"
   ]
  },
  {
   "cell_type": "markdown",
   "metadata": {},
   "source": [
    "## 4. Report<a class=\"anchor\" id=\"link-4\"></a>\n",
    "1. Report: A correlation matrix as a csv file, together with a png file of pairwise scatter \n",
    "plots between ranks, for selected methods, are generated and saved in the same folder where the ranks in csv format is saved whenever users opt to generate multiple ranks.\n",
    "\n",
    "2. Location: The `.csv` files containing the ranks (and possibly reports) are by default saved in your current directory unless a different location is stated.\n",
    "\n",
    "To save the result in the directory of user's choice the user have to run the following block of code.\n",
    "```python\n",
    "logger = client.get_logger()\n",
    "store_result = final_ranks_computation.save_to_csv(\n",
    "        (file_name, result), logger, all_ranks=True, report=True, \n",
    "        output_dir=<output directory location>)\n",
    "```\n",
    "\n",
    "\n",
    "### 4.1 Correlation Matrix<a class=\"anchor\" id=\"link-4.1\"></a>\n",
    "Since, we are using a notebook we can generate the report independently. In this section we have computed the `spearman's rank correlation` between the ranks to see if there is any anomaly between the ranks. From our past observations we have found that the `dtw_rank` is highly correlated with `euclidean_rank`. Hence, for computational efficiency we advise the user to avoid `dtw` in the `list_of_methods`\n",
    "\n",
    "[Top](#link-0.0)"
   ]
  },
  {
   "cell_type": "code",
   "execution_count": 7,
   "metadata": {},
   "outputs": [
    {
     "data": {
      "text/html": [
       "<div>\n",
       "<style scoped>\n",
       "    .dataframe tbody tr th:only-of-type {\n",
       "        vertical-align: middle;\n",
       "    }\n",
       "\n",
       "    .dataframe tbody tr th {\n",
       "        vertical-align: top;\n",
       "    }\n",
       "\n",
       "    .dataframe thead th {\n",
       "        text-align: right;\n",
       "    }\n",
       "</style>\n",
       "<table border=\"1\" class=\"dataframe\">\n",
       "  <thead>\n",
       "    <tr style=\"text-align: right;\">\n",
       "      <th></th>\n",
       "      <th>cumulative_rank</th>\n",
       "      <th>euclidean_rank</th>\n",
       "      <th>dtw_rank</th>\n",
       "      <th>ts-features_rank</th>\n",
       "      <th>composite_rank</th>\n",
       "    </tr>\n",
       "  </thead>\n",
       "  <tbody>\n",
       "    <tr>\n",
       "      <th>cumulative_rank</th>\n",
       "      <td>1.0</td>\n",
       "      <td>0.7</td>\n",
       "      <td>0.9</td>\n",
       "      <td>0.7</td>\n",
       "      <td>1.0</td>\n",
       "    </tr>\n",
       "    <tr>\n",
       "      <th>euclidean_rank</th>\n",
       "      <td>0.7</td>\n",
       "      <td>1.0</td>\n",
       "      <td>0.9</td>\n",
       "      <td>1.0</td>\n",
       "      <td>0.7</td>\n",
       "    </tr>\n",
       "    <tr>\n",
       "      <th>dtw_rank</th>\n",
       "      <td>0.9</td>\n",
       "      <td>0.9</td>\n",
       "      <td>1.0</td>\n",
       "      <td>0.9</td>\n",
       "      <td>0.9</td>\n",
       "    </tr>\n",
       "    <tr>\n",
       "      <th>ts-features_rank</th>\n",
       "      <td>0.7</td>\n",
       "      <td>1.0</td>\n",
       "      <td>0.9</td>\n",
       "      <td>1.0</td>\n",
       "      <td>0.7</td>\n",
       "    </tr>\n",
       "    <tr>\n",
       "      <th>composite_rank</th>\n",
       "      <td>1.0</td>\n",
       "      <td>0.7</td>\n",
       "      <td>0.9</td>\n",
       "      <td>0.7</td>\n",
       "      <td>1.0</td>\n",
       "    </tr>\n",
       "  </tbody>\n",
       "</table>\n",
       "</div>"
      ],
      "text/plain": [
       "                  cumulative_rank  euclidean_rank  dtw_rank  ts-features_rank  \\\n",
       "cumulative_rank               1.0             0.7       0.9               0.7   \n",
       "euclidean_rank                0.7             1.0       0.9               1.0   \n",
       "dtw_rank                      0.9             0.9       1.0               0.9   \n",
       "ts-features_rank              0.7             1.0       0.9               1.0   \n",
       "composite_rank                1.0             0.7       0.9               0.7   \n",
       "\n",
       "                  composite_rank  \n",
       "cumulative_rank              1.0  \n",
       "euclidean_rank               0.7  \n",
       "dtw_rank                     0.9  \n",
       "ts-features_rank             0.7  \n",
       "composite_rank               1.0  "
      ]
     },
     "execution_count": 7,
     "metadata": {},
     "output_type": "execute_result"
    }
   ],
   "source": [
    "result.corr(method='spearman')"
   ]
  },
  {
   "cell_type": "markdown",
   "metadata": {},
   "source": [
    "### 4.2 Scatterplots Between Ranks<a class=\"anchor\" id=\"link-4.2\"></a>\n",
    "We have used `plotly` for graphing. The user is free to use other libraries such as `seaborn`/ `matplotlib` for graphing. For seaborn please _uncomment_ the first three lines of code and _comment out_ the last seven lines of code.\n",
    "\n",
    "[Top](#link-0.0)"
   ]
  },
  {
   "cell_type": "code",
   "execution_count": 8,
   "metadata": {},
   "outputs": [
    {
     "data": {
      "text/html": [
       "        <script type=\"text/javascript\">\n",
       "        window.PlotlyConfig = {MathJaxConfig: 'local'};\n",
       "        if (window.MathJax) {MathJax.Hub.Config({SVG: {font: \"STIX-Web\"}});}\n",
       "        if (typeof require !== 'undefined') {\n",
       "        require.undef(\"plotly\");\n",
       "        requirejs.config({\n",
       "            paths: {\n",
       "                'plotly': ['https://cdn.plot.ly/plotly-latest.min']\n",
       "            }\n",
       "        });\n",
       "        require(['plotly'], function(Plotly) {\n",
       "            window._Plotly = Plotly;\n",
       "        });\n",
       "        }\n",
       "        </script>\n",
       "        "
      ]
     },
     "metadata": {},
     "output_type": "display_data"
    },
    {
     "data": {
      "text/html": [
       "        <script type=\"text/javascript\">\n",
       "        window.PlotlyConfig = {MathJaxConfig: 'local'};\n",
       "        if (window.MathJax) {MathJax.Hub.Config({SVG: {font: \"STIX-Web\"}});}\n",
       "        if (typeof require !== 'undefined') {\n",
       "        require.undef(\"plotly\");\n",
       "        requirejs.config({\n",
       "            paths: {\n",
       "                'plotly': ['https://cdn.plot.ly/plotly-latest.min']\n",
       "            }\n",
       "        });\n",
       "        require(['plotly'], function(Plotly) {\n",
       "            window._Plotly = Plotly;\n",
       "        });\n",
       "        }\n",
       "        </script>\n",
       "        "
      ]
     },
     "metadata": {},
     "output_type": "display_data"
    },
    {
     "data": {
      "application/vnd.plotly.v1+json": {
       "config": {
        "plotlyServerURL": "https://plot.ly"
       },
       "data": [
        {
         "marker": {
          "size": 6
         },
         "mode": "markers",
         "showlegend": false,
         "type": "scatter",
         "uid": "191c70e4-600c-47fa-a7d6-8e0240555da1",
         "x": [
          4,
          3,
          5,
          2,
          1
         ],
         "xaxis": "x",
         "y": [
          4,
          3,
          5,
          2,
          1
         ],
         "yaxis": "y"
        },
        {
         "marker": {
          "size": 6
         },
         "mode": "markers",
         "showlegend": false,
         "type": "scatter",
         "uid": "8b4a374f-5bb7-42b0-89b4-a460d025d4e5",
         "x": [
          3,
          2,
          5,
          4,
          1
         ],
         "xaxis": "x2",
         "y": [
          4,
          3,
          5,
          2,
          1
         ],
         "yaxis": "y2"
        },
        {
         "marker": {
          "size": 6
         },
         "mode": "markers",
         "showlegend": false,
         "type": "scatter",
         "uid": "a0faab0a-059d-423b-8019-0934be408a73",
         "x": [
          4,
          2,
          5,
          3,
          1
         ],
         "xaxis": "x3",
         "y": [
          4,
          3,
          5,
          2,
          1
         ],
         "yaxis": "y3"
        },
        {
         "marker": {
          "size": 6
         },
         "mode": "markers",
         "showlegend": false,
         "type": "scatter",
         "uid": "fb1f9e4f-a63b-4ea8-baee-158393a4ea4c",
         "x": [
          3,
          2,
          5,
          4,
          1
         ],
         "xaxis": "x4",
         "y": [
          4,
          3,
          5,
          2,
          1
         ],
         "yaxis": "y4"
        },
        {
         "marker": {
          "size": 6
         },
         "mode": "markers",
         "showlegend": false,
         "type": "scatter",
         "uid": "c2045f38-4d93-4769-aea3-051a097d3b39",
         "x": [
          4,
          3,
          5,
          2,
          1
         ],
         "xaxis": "x5",
         "y": [
          4,
          3,
          5,
          2,
          1
         ],
         "yaxis": "y5"
        },
        {
         "marker": {
          "size": 6
         },
         "mode": "markers",
         "showlegend": false,
         "type": "scatter",
         "uid": "f72d2a4b-dd42-4baa-83ec-bd337a629ee2",
         "x": [
          4,
          3,
          5,
          2,
          1
         ],
         "xaxis": "x6",
         "y": [
          3,
          2,
          5,
          4,
          1
         ],
         "yaxis": "y6"
        },
        {
         "marker": {
          "size": 6
         },
         "mode": "markers",
         "showlegend": false,
         "type": "scatter",
         "uid": "62d9ea4c-1c23-4bd4-b63c-98e151694192",
         "x": [
          3,
          2,
          5,
          4,
          1
         ],
         "xaxis": "x7",
         "y": [
          3,
          2,
          5,
          4,
          1
         ],
         "yaxis": "y7"
        },
        {
         "marker": {
          "size": 6
         },
         "mode": "markers",
         "showlegend": false,
         "type": "scatter",
         "uid": "8b3643f1-9f5a-406b-8a99-f37bbf72cf07",
         "x": [
          4,
          2,
          5,
          3,
          1
         ],
         "xaxis": "x8",
         "y": [
          3,
          2,
          5,
          4,
          1
         ],
         "yaxis": "y8"
        },
        {
         "marker": {
          "size": 6
         },
         "mode": "markers",
         "showlegend": false,
         "type": "scatter",
         "uid": "0550f466-2302-4425-ad38-820fe7c3400b",
         "x": [
          3,
          2,
          5,
          4,
          1
         ],
         "xaxis": "x9",
         "y": [
          3,
          2,
          5,
          4,
          1
         ],
         "yaxis": "y9"
        },
        {
         "marker": {
          "size": 6
         },
         "mode": "markers",
         "showlegend": false,
         "type": "scatter",
         "uid": "2ab3c3be-57f3-4d1e-b3fc-fff40b796b34",
         "x": [
          4,
          3,
          5,
          2,
          1
         ],
         "xaxis": "x10",
         "y": [
          3,
          2,
          5,
          4,
          1
         ],
         "yaxis": "y10"
        },
        {
         "marker": {
          "size": 6
         },
         "mode": "markers",
         "showlegend": false,
         "type": "scatter",
         "uid": "03c8b6ac-b189-4a72-ba7a-d992e3c6fcb5",
         "x": [
          4,
          3,
          5,
          2,
          1
         ],
         "xaxis": "x11",
         "y": [
          4,
          2,
          5,
          3,
          1
         ],
         "yaxis": "y11"
        },
        {
         "marker": {
          "size": 6
         },
         "mode": "markers",
         "showlegend": false,
         "type": "scatter",
         "uid": "afa37975-281c-4ff9-8212-6e9788065647",
         "x": [
          3,
          2,
          5,
          4,
          1
         ],
         "xaxis": "x12",
         "y": [
          4,
          2,
          5,
          3,
          1
         ],
         "yaxis": "y12"
        },
        {
         "marker": {
          "size": 6
         },
         "mode": "markers",
         "showlegend": false,
         "type": "scatter",
         "uid": "0988cddb-d67a-4c5e-bcd2-2f2f1bda76d4",
         "x": [
          4,
          2,
          5,
          3,
          1
         ],
         "xaxis": "x13",
         "y": [
          4,
          2,
          5,
          3,
          1
         ],
         "yaxis": "y13"
        },
        {
         "marker": {
          "size": 6
         },
         "mode": "markers",
         "showlegend": false,
         "type": "scatter",
         "uid": "e067af6b-b984-42d7-8de7-5a77473a4bab",
         "x": [
          3,
          2,
          5,
          4,
          1
         ],
         "xaxis": "x14",
         "y": [
          4,
          2,
          5,
          3,
          1
         ],
         "yaxis": "y14"
        },
        {
         "marker": {
          "size": 6
         },
         "mode": "markers",
         "showlegend": false,
         "type": "scatter",
         "uid": "16c8662a-2e26-45ae-8602-54babe7d8a5d",
         "x": [
          4,
          3,
          5,
          2,
          1
         ],
         "xaxis": "x15",
         "y": [
          4,
          2,
          5,
          3,
          1
         ],
         "yaxis": "y15"
        },
        {
         "marker": {
          "size": 6
         },
         "mode": "markers",
         "showlegend": false,
         "type": "scatter",
         "uid": "f61c3ed1-84f0-4402-a523-3d72de80f1ce",
         "x": [
          4,
          3,
          5,
          2,
          1
         ],
         "xaxis": "x16",
         "y": [
          3,
          2,
          5,
          4,
          1
         ],
         "yaxis": "y16"
        },
        {
         "marker": {
          "size": 6
         },
         "mode": "markers",
         "showlegend": false,
         "type": "scatter",
         "uid": "8f8f7fa3-cd3f-42a4-924d-c8908cc1e599",
         "x": [
          3,
          2,
          5,
          4,
          1
         ],
         "xaxis": "x17",
         "y": [
          3,
          2,
          5,
          4,
          1
         ],
         "yaxis": "y17"
        },
        {
         "marker": {
          "size": 6
         },
         "mode": "markers",
         "showlegend": false,
         "type": "scatter",
         "uid": "cd7fc5b5-5db1-4e2d-bcb1-308a41a8d1b0",
         "x": [
          4,
          2,
          5,
          3,
          1
         ],
         "xaxis": "x18",
         "y": [
          3,
          2,
          5,
          4,
          1
         ],
         "yaxis": "y18"
        },
        {
         "marker": {
          "size": 6
         },
         "mode": "markers",
         "showlegend": false,
         "type": "scatter",
         "uid": "7b25cd17-8a7f-433f-ace6-4a989a62eace",
         "x": [
          3,
          2,
          5,
          4,
          1
         ],
         "xaxis": "x19",
         "y": [
          3,
          2,
          5,
          4,
          1
         ],
         "yaxis": "y19"
        },
        {
         "marker": {
          "size": 6
         },
         "mode": "markers",
         "showlegend": false,
         "type": "scatter",
         "uid": "3d209a65-5056-420e-9a4b-3e44455cd37e",
         "x": [
          4,
          3,
          5,
          2,
          1
         ],
         "xaxis": "x20",
         "y": [
          3,
          2,
          5,
          4,
          1
         ],
         "yaxis": "y20"
        },
        {
         "marker": {
          "size": 6
         },
         "mode": "markers",
         "showlegend": false,
         "type": "scatter",
         "uid": "3ed9f7a9-d0d7-4911-8d0a-2e268fb491d6",
         "x": [
          4,
          3,
          5,
          2,
          1
         ],
         "xaxis": "x21",
         "y": [
          4,
          3,
          5,
          2,
          1
         ],
         "yaxis": "y21"
        },
        {
         "marker": {
          "size": 6
         },
         "mode": "markers",
         "showlegend": false,
         "type": "scatter",
         "uid": "c9cabb63-08a1-4016-9316-eedca8c54044",
         "x": [
          3,
          2,
          5,
          4,
          1
         ],
         "xaxis": "x22",
         "y": [
          4,
          3,
          5,
          2,
          1
         ],
         "yaxis": "y22"
        },
        {
         "marker": {
          "size": 6
         },
         "mode": "markers",
         "showlegend": false,
         "type": "scatter",
         "uid": "f5627f28-872d-437c-bb7c-bba3cab68034",
         "x": [
          4,
          2,
          5,
          3,
          1
         ],
         "xaxis": "x23",
         "y": [
          4,
          3,
          5,
          2,
          1
         ],
         "yaxis": "y23"
        },
        {
         "marker": {
          "size": 6
         },
         "mode": "markers",
         "showlegend": false,
         "type": "scatter",
         "uid": "db31ead2-6e5f-45eb-819c-9ac2a1becbbb",
         "x": [
          3,
          2,
          5,
          4,
          1
         ],
         "xaxis": "x24",
         "y": [
          4,
          3,
          5,
          2,
          1
         ],
         "yaxis": "y24"
        },
        {
         "marker": {
          "size": 6
         },
         "mode": "markers",
         "showlegend": false,
         "type": "scatter",
         "uid": "13333427-2e98-46fa-b3f3-117f55979aef",
         "x": [
          4,
          3,
          5,
          2,
          1
         ],
         "xaxis": "x25",
         "y": [
          4,
          3,
          5,
          2,
          1
         ],
         "yaxis": "y25"
        }
       ],
       "layout": {
        "height": 1000,
        "showlegend": true,
        "title": {
         "text": "Scatterplot Matrix"
        },
        "width": 1000,
        "xaxis": {
         "anchor": "y",
         "domain": [
          0,
          0.16799999999999998
         ]
        },
        "xaxis10": {
         "anchor": "y10",
         "domain": [
          0.832,
          1
         ]
        },
        "xaxis11": {
         "anchor": "y11",
         "domain": [
          0,
          0.16799999999999998
         ]
        },
        "xaxis12": {
         "anchor": "y12",
         "domain": [
          0.208,
          0.376
         ]
        },
        "xaxis13": {
         "anchor": "y13",
         "domain": [
          0.416,
          0.584
         ]
        },
        "xaxis14": {
         "anchor": "y14",
         "domain": [
          0.624,
          0.792
         ]
        },
        "xaxis15": {
         "anchor": "y15",
         "domain": [
          0.832,
          1
         ]
        },
        "xaxis16": {
         "anchor": "y16",
         "domain": [
          0,
          0.16799999999999998
         ]
        },
        "xaxis17": {
         "anchor": "y17",
         "domain": [
          0.208,
          0.376
         ]
        },
        "xaxis18": {
         "anchor": "y18",
         "domain": [
          0.416,
          0.584
         ]
        },
        "xaxis19": {
         "anchor": "y19",
         "domain": [
          0.624,
          0.792
         ]
        },
        "xaxis2": {
         "anchor": "y2",
         "domain": [
          0.208,
          0.376
         ]
        },
        "xaxis20": {
         "anchor": "y20",
         "domain": [
          0.832,
          1
         ]
        },
        "xaxis21": {
         "anchor": "y21",
         "domain": [
          0,
          0.16799999999999998
         ],
         "title": {
          "text": "cumulative_rank"
         }
        },
        "xaxis22": {
         "anchor": "y22",
         "domain": [
          0.208,
          0.376
         ],
         "title": {
          "text": "euclidean_rank"
         }
        },
        "xaxis23": {
         "anchor": "y23",
         "domain": [
          0.416,
          0.584
         ],
         "title": {
          "text": "dtw_rank"
         }
        },
        "xaxis24": {
         "anchor": "y24",
         "domain": [
          0.624,
          0.792
         ],
         "title": {
          "text": "ts-features_rank"
         }
        },
        "xaxis25": {
         "anchor": "y25",
         "domain": [
          0.832,
          1
         ],
         "title": {
          "text": "composite_rank"
         }
        },
        "xaxis3": {
         "anchor": "y3",
         "domain": [
          0.416,
          0.584
         ]
        },
        "xaxis4": {
         "anchor": "y4",
         "domain": [
          0.624,
          0.792
         ]
        },
        "xaxis5": {
         "anchor": "y5",
         "domain": [
          0.832,
          1
         ]
        },
        "xaxis6": {
         "anchor": "y6",
         "domain": [
          0,
          0.16799999999999998
         ]
        },
        "xaxis7": {
         "anchor": "y7",
         "domain": [
          0.208,
          0.376
         ]
        },
        "xaxis8": {
         "anchor": "y8",
         "domain": [
          0.416,
          0.584
         ]
        },
        "xaxis9": {
         "anchor": "y9",
         "domain": [
          0.624,
          0.792
         ]
        },
        "yaxis": {
         "anchor": "x",
         "domain": [
          0.848,
          1
         ],
         "title": {
          "text": "cumulative_rank"
         }
        },
        "yaxis10": {
         "anchor": "x10",
         "domain": [
          0.6359999999999999,
          0.7879999999999999
         ]
        },
        "yaxis11": {
         "anchor": "x11",
         "domain": [
          0.424,
          0.576
         ],
         "title": {
          "text": "dtw_rank"
         }
        },
        "yaxis12": {
         "anchor": "x12",
         "domain": [
          0.424,
          0.576
         ]
        },
        "yaxis13": {
         "anchor": "x13",
         "domain": [
          0.424,
          0.576
         ]
        },
        "yaxis14": {
         "anchor": "x14",
         "domain": [
          0.424,
          0.576
         ]
        },
        "yaxis15": {
         "anchor": "x15",
         "domain": [
          0.424,
          0.576
         ]
        },
        "yaxis16": {
         "anchor": "x16",
         "domain": [
          0.212,
          0.364
         ],
         "title": {
          "text": "ts-features_rank"
         }
        },
        "yaxis17": {
         "anchor": "x17",
         "domain": [
          0.212,
          0.364
         ]
        },
        "yaxis18": {
         "anchor": "x18",
         "domain": [
          0.212,
          0.364
         ]
        },
        "yaxis19": {
         "anchor": "x19",
         "domain": [
          0.212,
          0.364
         ]
        },
        "yaxis2": {
         "anchor": "x2",
         "domain": [
          0.848,
          1
         ]
        },
        "yaxis20": {
         "anchor": "x20",
         "domain": [
          0.212,
          0.364
         ]
        },
        "yaxis21": {
         "anchor": "x21",
         "domain": [
          0,
          0.152
         ],
         "title": {
          "text": "composite_rank"
         }
        },
        "yaxis22": {
         "anchor": "x22",
         "domain": [
          0,
          0.152
         ]
        },
        "yaxis23": {
         "anchor": "x23",
         "domain": [
          0,
          0.152
         ]
        },
        "yaxis24": {
         "anchor": "x24",
         "domain": [
          0,
          0.152
         ]
        },
        "yaxis25": {
         "anchor": "x25",
         "domain": [
          0,
          0.152
         ]
        },
        "yaxis3": {
         "anchor": "x3",
         "domain": [
          0.848,
          1
         ]
        },
        "yaxis4": {
         "anchor": "x4",
         "domain": [
          0.848,
          1
         ]
        },
        "yaxis5": {
         "anchor": "x5",
         "domain": [
          0.848,
          1
         ]
        },
        "yaxis6": {
         "anchor": "x6",
         "domain": [
          0.6359999999999999,
          0.7879999999999999
         ],
         "title": {
          "text": "euclidean_rank"
         }
        },
        "yaxis7": {
         "anchor": "x7",
         "domain": [
          0.6359999999999999,
          0.7879999999999999
         ]
        },
        "yaxis8": {
         "anchor": "x8",
         "domain": [
          0.6359999999999999,
          0.7879999999999999
         ]
        },
        "yaxis9": {
         "anchor": "x9",
         "domain": [
          0.6359999999999999,
          0.7879999999999999
         ]
        }
       }
      },
      "text/html": [
       "<div>\n",
       "        \n",
       "        \n",
       "            <div id=\"ab7d87c6-40c4-40eb-9b22-25fbddcec098\" class=\"plotly-graph-div\" style=\"height:1000px; width:1000px;\"></div>\n",
       "            <script type=\"text/javascript\">\n",
       "                require([\"plotly\"], function(Plotly) {\n",
       "                    window.PLOTLYENV=window.PLOTLYENV || {};\n",
       "                    window.PLOTLYENV.BASE_URL='https://plot.ly';\n",
       "                    \n",
       "                if (document.getElementById(\"ab7d87c6-40c4-40eb-9b22-25fbddcec098\")) {\n",
       "                    Plotly.newPlot(\n",
       "                        'ab7d87c6-40c4-40eb-9b22-25fbddcec098',\n",
       "                        [{\"marker\": {\"size\": 6}, \"mode\": \"markers\", \"showlegend\": false, \"type\": \"scatter\", \"uid\": \"191c70e4-600c-47fa-a7d6-8e0240555da1\", \"x\": [4, 3, 5, 2, 1], \"xaxis\": \"x\", \"y\": [4, 3, 5, 2, 1], \"yaxis\": \"y\"}, {\"marker\": {\"size\": 6}, \"mode\": \"markers\", \"showlegend\": false, \"type\": \"scatter\", \"uid\": \"8b4a374f-5bb7-42b0-89b4-a460d025d4e5\", \"x\": [3, 2, 5, 4, 1], \"xaxis\": \"x2\", \"y\": [4, 3, 5, 2, 1], \"yaxis\": \"y2\"}, {\"marker\": {\"size\": 6}, \"mode\": \"markers\", \"showlegend\": false, \"type\": \"scatter\", \"uid\": \"a0faab0a-059d-423b-8019-0934be408a73\", \"x\": [4, 2, 5, 3, 1], \"xaxis\": \"x3\", \"y\": [4, 3, 5, 2, 1], \"yaxis\": \"y3\"}, {\"marker\": {\"size\": 6}, \"mode\": \"markers\", \"showlegend\": false, \"type\": \"scatter\", \"uid\": \"fb1f9e4f-a63b-4ea8-baee-158393a4ea4c\", \"x\": [3, 2, 5, 4, 1], \"xaxis\": \"x4\", \"y\": [4, 3, 5, 2, 1], \"yaxis\": \"y4\"}, {\"marker\": {\"size\": 6}, \"mode\": \"markers\", \"showlegend\": false, \"type\": \"scatter\", \"uid\": \"c2045f38-4d93-4769-aea3-051a097d3b39\", \"x\": [4, 3, 5, 2, 1], \"xaxis\": \"x5\", \"y\": [4, 3, 5, 2, 1], \"yaxis\": \"y5\"}, {\"marker\": {\"size\": 6}, \"mode\": \"markers\", \"showlegend\": false, \"type\": \"scatter\", \"uid\": \"f72d2a4b-dd42-4baa-83ec-bd337a629ee2\", \"x\": [4, 3, 5, 2, 1], \"xaxis\": \"x6\", \"y\": [3, 2, 5, 4, 1], \"yaxis\": \"y6\"}, {\"marker\": {\"size\": 6}, \"mode\": \"markers\", \"showlegend\": false, \"type\": \"scatter\", \"uid\": \"62d9ea4c-1c23-4bd4-b63c-98e151694192\", \"x\": [3, 2, 5, 4, 1], \"xaxis\": \"x7\", \"y\": [3, 2, 5, 4, 1], \"yaxis\": \"y7\"}, {\"marker\": {\"size\": 6}, \"mode\": \"markers\", \"showlegend\": false, \"type\": \"scatter\", \"uid\": \"8b3643f1-9f5a-406b-8a99-f37bbf72cf07\", \"x\": [4, 2, 5, 3, 1], \"xaxis\": \"x8\", \"y\": [3, 2, 5, 4, 1], \"yaxis\": \"y8\"}, {\"marker\": {\"size\": 6}, \"mode\": \"markers\", \"showlegend\": false, \"type\": \"scatter\", \"uid\": \"0550f466-2302-4425-ad38-820fe7c3400b\", \"x\": [3, 2, 5, 4, 1], \"xaxis\": \"x9\", \"y\": [3, 2, 5, 4, 1], \"yaxis\": \"y9\"}, {\"marker\": {\"size\": 6}, \"mode\": \"markers\", \"showlegend\": false, \"type\": \"scatter\", \"uid\": \"2ab3c3be-57f3-4d1e-b3fc-fff40b796b34\", \"x\": [4, 3, 5, 2, 1], \"xaxis\": \"x10\", \"y\": [3, 2, 5, 4, 1], \"yaxis\": \"y10\"}, {\"marker\": {\"size\": 6}, \"mode\": \"markers\", \"showlegend\": false, \"type\": \"scatter\", \"uid\": \"03c8b6ac-b189-4a72-ba7a-d992e3c6fcb5\", \"x\": [4, 3, 5, 2, 1], \"xaxis\": \"x11\", \"y\": [4, 2, 5, 3, 1], \"yaxis\": \"y11\"}, {\"marker\": {\"size\": 6}, \"mode\": \"markers\", \"showlegend\": false, \"type\": \"scatter\", \"uid\": \"afa37975-281c-4ff9-8212-6e9788065647\", \"x\": [3, 2, 5, 4, 1], \"xaxis\": \"x12\", \"y\": [4, 2, 5, 3, 1], \"yaxis\": \"y12\"}, {\"marker\": {\"size\": 6}, \"mode\": \"markers\", \"showlegend\": false, \"type\": \"scatter\", \"uid\": \"0988cddb-d67a-4c5e-bcd2-2f2f1bda76d4\", \"x\": [4, 2, 5, 3, 1], \"xaxis\": \"x13\", \"y\": [4, 2, 5, 3, 1], \"yaxis\": \"y13\"}, {\"marker\": {\"size\": 6}, \"mode\": \"markers\", \"showlegend\": false, \"type\": \"scatter\", \"uid\": \"e067af6b-b984-42d7-8de7-5a77473a4bab\", \"x\": [3, 2, 5, 4, 1], \"xaxis\": \"x14\", \"y\": [4, 2, 5, 3, 1], \"yaxis\": \"y14\"}, {\"marker\": {\"size\": 6}, \"mode\": \"markers\", \"showlegend\": false, \"type\": \"scatter\", \"uid\": \"16c8662a-2e26-45ae-8602-54babe7d8a5d\", \"x\": [4, 3, 5, 2, 1], \"xaxis\": \"x15\", \"y\": [4, 2, 5, 3, 1], \"yaxis\": \"y15\"}, {\"marker\": {\"size\": 6}, \"mode\": \"markers\", \"showlegend\": false, \"type\": \"scatter\", \"uid\": \"f61c3ed1-84f0-4402-a523-3d72de80f1ce\", \"x\": [4, 3, 5, 2, 1], \"xaxis\": \"x16\", \"y\": [3, 2, 5, 4, 1], \"yaxis\": \"y16\"}, {\"marker\": {\"size\": 6}, \"mode\": \"markers\", \"showlegend\": false, \"type\": \"scatter\", \"uid\": \"8f8f7fa3-cd3f-42a4-924d-c8908cc1e599\", \"x\": [3, 2, 5, 4, 1], \"xaxis\": \"x17\", \"y\": [3, 2, 5, 4, 1], \"yaxis\": \"y17\"}, {\"marker\": {\"size\": 6}, \"mode\": \"markers\", \"showlegend\": false, \"type\": \"scatter\", \"uid\": \"cd7fc5b5-5db1-4e2d-bcb1-308a41a8d1b0\", \"x\": [4, 2, 5, 3, 1], \"xaxis\": \"x18\", \"y\": [3, 2, 5, 4, 1], \"yaxis\": \"y18\"}, {\"marker\": {\"size\": 6}, \"mode\": \"markers\", \"showlegend\": false, \"type\": \"scatter\", \"uid\": \"7b25cd17-8a7f-433f-ace6-4a989a62eace\", \"x\": [3, 2, 5, 4, 1], \"xaxis\": \"x19\", \"y\": [3, 2, 5, 4, 1], \"yaxis\": \"y19\"}, {\"marker\": {\"size\": 6}, \"mode\": \"markers\", \"showlegend\": false, \"type\": \"scatter\", \"uid\": \"3d209a65-5056-420e-9a4b-3e44455cd37e\", \"x\": [4, 3, 5, 2, 1], \"xaxis\": \"x20\", \"y\": [3, 2, 5, 4, 1], \"yaxis\": \"y20\"}, {\"marker\": {\"size\": 6}, \"mode\": \"markers\", \"showlegend\": false, \"type\": \"scatter\", \"uid\": \"3ed9f7a9-d0d7-4911-8d0a-2e268fb491d6\", \"x\": [4, 3, 5, 2, 1], \"xaxis\": \"x21\", \"y\": [4, 3, 5, 2, 1], \"yaxis\": \"y21\"}, {\"marker\": {\"size\": 6}, \"mode\": \"markers\", \"showlegend\": false, \"type\": \"scatter\", \"uid\": \"c9cabb63-08a1-4016-9316-eedca8c54044\", \"x\": [3, 2, 5, 4, 1], \"xaxis\": \"x22\", \"y\": [4, 3, 5, 2, 1], \"yaxis\": \"y22\"}, {\"marker\": {\"size\": 6}, \"mode\": \"markers\", \"showlegend\": false, \"type\": \"scatter\", \"uid\": \"f5627f28-872d-437c-bb7c-bba3cab68034\", \"x\": [4, 2, 5, 3, 1], \"xaxis\": \"x23\", \"y\": [4, 3, 5, 2, 1], \"yaxis\": \"y23\"}, {\"marker\": {\"size\": 6}, \"mode\": \"markers\", \"showlegend\": false, \"type\": \"scatter\", \"uid\": \"db31ead2-6e5f-45eb-819c-9ac2a1becbbb\", \"x\": [3, 2, 5, 4, 1], \"xaxis\": \"x24\", \"y\": [4, 3, 5, 2, 1], \"yaxis\": \"y24\"}, {\"marker\": {\"size\": 6}, \"mode\": \"markers\", \"showlegend\": false, \"type\": \"scatter\", \"uid\": \"13333427-2e98-46fa-b3f3-117f55979aef\", \"x\": [4, 3, 5, 2, 1], \"xaxis\": \"x25\", \"y\": [4, 3, 5, 2, 1], \"yaxis\": \"y25\"}],\n",
       "                        {\"height\": 1000, \"showlegend\": true, \"title\": {\"text\": \"Scatterplot Matrix\"}, \"width\": 1000, \"xaxis\": {\"anchor\": \"y\", \"domain\": [0.0, 0.16799999999999998]}, \"xaxis10\": {\"anchor\": \"y10\", \"domain\": [0.832, 1.0]}, \"xaxis11\": {\"anchor\": \"y11\", \"domain\": [0.0, 0.16799999999999998]}, \"xaxis12\": {\"anchor\": \"y12\", \"domain\": [0.208, 0.376]}, \"xaxis13\": {\"anchor\": \"y13\", \"domain\": [0.416, 0.584]}, \"xaxis14\": {\"anchor\": \"y14\", \"domain\": [0.624, 0.792]}, \"xaxis15\": {\"anchor\": \"y15\", \"domain\": [0.832, 1.0]}, \"xaxis16\": {\"anchor\": \"y16\", \"domain\": [0.0, 0.16799999999999998]}, \"xaxis17\": {\"anchor\": \"y17\", \"domain\": [0.208, 0.376]}, \"xaxis18\": {\"anchor\": \"y18\", \"domain\": [0.416, 0.584]}, \"xaxis19\": {\"anchor\": \"y19\", \"domain\": [0.624, 0.792]}, \"xaxis2\": {\"anchor\": \"y2\", \"domain\": [0.208, 0.376]}, \"xaxis20\": {\"anchor\": \"y20\", \"domain\": [0.832, 1.0]}, \"xaxis21\": {\"anchor\": \"y21\", \"domain\": [0.0, 0.16799999999999998], \"title\": {\"text\": \"cumulative_rank\"}}, \"xaxis22\": {\"anchor\": \"y22\", \"domain\": [0.208, 0.376], \"title\": {\"text\": \"euclidean_rank\"}}, \"xaxis23\": {\"anchor\": \"y23\", \"domain\": [0.416, 0.584], \"title\": {\"text\": \"dtw_rank\"}}, \"xaxis24\": {\"anchor\": \"y24\", \"domain\": [0.624, 0.792], \"title\": {\"text\": \"ts-features_rank\"}}, \"xaxis25\": {\"anchor\": \"y25\", \"domain\": [0.832, 1.0], \"title\": {\"text\": \"composite_rank\"}}, \"xaxis3\": {\"anchor\": \"y3\", \"domain\": [0.416, 0.584]}, \"xaxis4\": {\"anchor\": \"y4\", \"domain\": [0.624, 0.792]}, \"xaxis5\": {\"anchor\": \"y5\", \"domain\": [0.832, 1.0]}, \"xaxis6\": {\"anchor\": \"y6\", \"domain\": [0.0, 0.16799999999999998]}, \"xaxis7\": {\"anchor\": \"y7\", \"domain\": [0.208, 0.376]}, \"xaxis8\": {\"anchor\": \"y8\", \"domain\": [0.416, 0.584]}, \"xaxis9\": {\"anchor\": \"y9\", \"domain\": [0.624, 0.792]}, \"yaxis\": {\"anchor\": \"x\", \"domain\": [0.848, 1.0], \"title\": {\"text\": \"cumulative_rank\"}}, \"yaxis10\": {\"anchor\": \"x10\", \"domain\": [0.6359999999999999, 0.7879999999999999]}, \"yaxis11\": {\"anchor\": \"x11\", \"domain\": [0.424, 0.576], \"title\": {\"text\": \"dtw_rank\"}}, \"yaxis12\": {\"anchor\": \"x12\", \"domain\": [0.424, 0.576]}, \"yaxis13\": {\"anchor\": \"x13\", \"domain\": [0.424, 0.576]}, \"yaxis14\": {\"anchor\": \"x14\", \"domain\": [0.424, 0.576]}, \"yaxis15\": {\"anchor\": \"x15\", \"domain\": [0.424, 0.576]}, \"yaxis16\": {\"anchor\": \"x16\", \"domain\": [0.212, 0.364], \"title\": {\"text\": \"ts-features_rank\"}}, \"yaxis17\": {\"anchor\": \"x17\", \"domain\": [0.212, 0.364]}, \"yaxis18\": {\"anchor\": \"x18\", \"domain\": [0.212, 0.364]}, \"yaxis19\": {\"anchor\": \"x19\", \"domain\": [0.212, 0.364]}, \"yaxis2\": {\"anchor\": \"x2\", \"domain\": [0.848, 1.0]}, \"yaxis20\": {\"anchor\": \"x20\", \"domain\": [0.212, 0.364]}, \"yaxis21\": {\"anchor\": \"x21\", \"domain\": [0.0, 0.152], \"title\": {\"text\": \"composite_rank\"}}, \"yaxis22\": {\"anchor\": \"x22\", \"domain\": [0.0, 0.152]}, \"yaxis23\": {\"anchor\": \"x23\", \"domain\": [0.0, 0.152]}, \"yaxis24\": {\"anchor\": \"x24\", \"domain\": [0.0, 0.152]}, \"yaxis25\": {\"anchor\": \"x25\", \"domain\": [0.0, 0.152]}, \"yaxis3\": {\"anchor\": \"x3\", \"domain\": [0.848, 1.0]}, \"yaxis4\": {\"anchor\": \"x4\", \"domain\": [0.848, 1.0]}, \"yaxis5\": {\"anchor\": \"x5\", \"domain\": [0.848, 1.0]}, \"yaxis6\": {\"anchor\": \"x6\", \"domain\": [0.6359999999999999, 0.7879999999999999], \"title\": {\"text\": \"euclidean_rank\"}}, \"yaxis7\": {\"anchor\": \"x7\", \"domain\": [0.6359999999999999, 0.7879999999999999]}, \"yaxis8\": {\"anchor\": \"x8\", \"domain\": [0.6359999999999999, 0.7879999999999999]}, \"yaxis9\": {\"anchor\": \"x9\", \"domain\": [0.6359999999999999, 0.7879999999999999]}},\n",
       "                        {\"plotlyServerURL\": \"https://plot.ly\", \"responsive\": true}\n",
       "                    ).then(function(){\n",
       "                            \n",
       "var gd = document.getElementById('ab7d87c6-40c4-40eb-9b22-25fbddcec098');\n",
       "var x = new MutationObserver(function (mutations, observer) {{\n",
       "        var display = window.getComputedStyle(gd).display;\n",
       "        if (!display || display === 'none') {{\n",
       "            console.log([gd, 'removed!']);\n",
       "            Plotly.purge(gd);\n",
       "            observer.disconnect();\n",
       "        }}\n",
       "}});\n",
       "\n",
       "// Listen for the removal of the full notebook cells\n",
       "var notebookContainer = gd.closest('#notebook-container');\n",
       "if (notebookContainer) {{\n",
       "    x.observe(notebookContainer, {childList: true});\n",
       "}}\n",
       "\n",
       "// Listen for the clearing of the current output cell\n",
       "var outputEl = gd.closest('.output');\n",
       "if (outputEl) {{\n",
       "    x.observe(outputEl, {childList: true});\n",
       "}}\n",
       "\n",
       "                        })\n",
       "                };\n",
       "                });\n",
       "            </script>\n",
       "        </div>"
      ]
     },
     "metadata": {},
     "output_type": "display_data"
    }
   ],
   "source": [
    "# import seaborn as sns\n",
    "# sns.set(style=\"ticks\")\n",
    "# sns.pairplot(result)\n",
    "\n",
    "import plotly.figure_factory as ff\n",
    "from plotly.offline import iplot, init_notebook_mode\n",
    "import cufflinks\n",
    "cufflinks.go_offline(connected = True)\n",
    "init_notebook_mode(connected = True)\n",
    "figure = ff.create_scatterplotmatrix(result, height=1000, width=1000)\n",
    "figure.show()"
   ]
  }
 ],
 "metadata": {
  "kernelspec": {
   "display_name": "Python 3",
   "language": "python",
   "name": "python3"
  },
  "language_info": {
   "codemirror_mode": {
    "name": "ipython",
    "version": 3
   },
   "file_extension": ".py",
   "mimetype": "text/x-python",
   "name": "python",
   "nbconvert_exporter": "python",
   "pygments_lexer": "ipython3",
   "version": "3.7.3"
  }
 },
 "nbformat": 4,
 "nbformat_minor": 2
}
