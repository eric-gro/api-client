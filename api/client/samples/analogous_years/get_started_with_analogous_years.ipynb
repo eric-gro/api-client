{
 "cells": [
  {
   "cell_type": "markdown",
   "metadata": {},
   "source": [
    "# Analogous Years\n",
    "The Analogous Years application enables users to compare events from a set period of time, \n",
    "to those of the same date range in other years. The application will compute ranks of similarity between the specified period, and the same period from previous or future years.\n",
    "\n",
    "## Table of Contents <a class=\"anchor\" id=\"link-0.0\"></a>\n",
    "0. [Gro API Client](#link-0)\n",
    "    - [Import Gro Client And Analogous Years' Functions](#link-0.1)\n",
    "    - [Set Up Environment To Access Gro API](#link-0.2)\n",
    "- [Input](#link-1)\n",
    "    - [Gro Data Series](#link-1.1)\n",
    "    - [Time Period](#link-1.2)\n",
    "- [Output](#link-2)\n",
    "- [Appendix](#link-3)\n",
    "    - [Methods Of Rank Calculation](#link-3.1)\n",
    "    - [Additional Options](#link-3.2)\n",
    "- [Report](#link-4)\n",
    "    - [Correlation Matrix](#link-4.1)\n",
    "    - [Scatterplots Between Ranks](./get_started_with_analogous_years.ipynb/#link-4.2)\n",
    "\n",
    "\n",
    "## 0. Gro API Client<a class=\"anchor\" id=\"link-0\"></a>\n",
    "\n",
    "### 0.1 Import Gro Client And Analogous Years' Functions<a class=\"anchor\" id=\"link-0.1\"></a>\n",
    "To get started with `Analogous Years`, users have to install `Gro API Client`\n",
    "as detailed [here](https://developers.gro-intelligence.com/installation.html). Following that users can run the following cell to import Gro client and some of the necessary libraries from the `analogous_years` package."
   ]
  },
  {
   "cell_type": "code",
   "execution_count": 1,
   "metadata": {},
   "outputs": [],
   "source": [
    "import os\n",
    "from api.client.gro_client import GroClient\n",
    "from api.client.samples.analogous_years import run_analogous_years\n",
    "from api.client.samples.analogous_years.lib import final_ranks_computation, get_transform_data\n",
    "import logging\n",
    "import pandas as pd\n",
    "pd.options.mode.chained_assignment = None"
   ]
  },
  {
   "cell_type": "markdown",
   "metadata": {},
   "source": [
    "### 0.2 Set Up Environment To Access Gro API<a class=\"anchor\" id=\"link-0.2\"></a>\n",
    "Assuming that users have saved the Gro API access token as an environment variable named `GROAPI_TOKEN` (and have imported `os` in the previous step), users may run the following cell to define `client` for interaction with Gro API\n",
    "\n",
    "[Top](#link-0.0)"
   ]
  },
  {
   "cell_type": "code",
   "execution_count": 2,
   "metadata": {},
   "outputs": [],
   "source": [
    "API_HOST = 'api.gro-intelligence.com'\n",
    "ACCESS_TOKEN = os.environ['GROAPI_TOKEN']\n",
    "client = GroClient(API_HOST, ACCESS_TOKEN)\n",
    "logging.disable(level=logging.ERROR)"
   ]
  },
  {
   "cell_type": "markdown",
   "metadata": {},
   "source": [
    "## 1. Input<a class=\"anchor\" id=\"link-1\"></a>\n",
    "Multiple different inputs can be used in determining the ranks (refer to the appendix), but to compute these ranks, a user must provide:\n",
    "### 1.1 Gro Data Series<a class=\"anchor\" id=\"link-1.1\"></a>\n",
    "Single or multiple Gro Data Series defined by `metric_id`, `item_id`, `source_id`, `frequency_id` for a particular region given by a `region_id`.\n",
    "### 1.2 Time Period<a class=\"anchor\" id=\"link-1.2\"></a>\n",
    "A time period determined by an `initial_date` and a `final_date`. The two dates must be within 1 year of each other and in the `YYYY-MM-DD` format.\n",
    "### Example\n",
    "As an example, if the user wants to know which period of time is most similar to the time period between 1<sup>st</sup> January 2019 and 31<sup>st</sup> October 2019 in the [US Corn Belt States (region_id=100000100)](https://app.gro-intelligence.com/dictionary/regions/100000100) with respect to the\n",
    "following Gro Data Series -\n",
    "1. Rainfall, TRMM ([metric_id=2100031](https://app.gro-intelligence.com/dictionary/metrics/2100031), [item_id=2039](https://app.gro-intelligence.com/dictionary/items/2039), [source_id=35](https://app.gro-intelligence.com/dictionary/sources/35), frequency_id=1)\n",
    "2. Land Temperature, MODIS ([metric_id=2540047](https://app.gro-intelligence.com/dictionary/metrics/2540047), [item_id=3457](https://app.gro-intelligence.com/dictionary/items/3457), [source_id=26](https://app.gro-intelligence.com/dictionary/sources/26), frequency_id=1)\n",
    "3. Soil moisture, SMOS ([metric_id=15531082](https://app.gro-intelligence.com/dictionary/items/15531082), [item_id=7382](https://app.gro-intelligence.com/dictionary/items/7382), [source_id=43](https://app.gro-intelligence.com/dictionary/sources/43), frequency_id=1)\n",
    "\n",
    "Note: 1. `frequency_id: 1` gives us daily values. In absence of daily values, \n",
    "the application up-samples to daily frequency(ies).\n",
    "2. A convenient way to incorporate these is to copy the dictionaries associated to the data series mentioned above from [Gro webapp display](https://app.gro-intelligence.com/displays/za9MlQYRM) by exporting the api client code snippets of the display. The copied data series will be stored in `data_series_list` as outlined below.\n",
    "\n",
    "[Top](./get_started_with_analogous_years.ipynb/#link-0.0)"
   ]
  },
  {
   "cell_type": "code",
   "execution_count": 3,
   "metadata": {},
   "outputs": [],
   "source": [
    "# Rainfall (modeled) - Precipitation Quantity - US Corn Belt States (NASA TRMM 3B42RT)\n",
    "data_series_1 = {'metric_id': 2100031, \n",
    "                 'item_id': 2039, \n",
    "                 'region_id': 100000100, \n",
    "                 'partner_region_id': 0, \n",
    "                 'source_id': 35, \n",
    "                 'frequency_id': 1, \n",
    "                 'unit_id': 2}\n",
    "# Land temperature (daytime, modeled) - Temperature - US Corn Belt States (NASA MODIS MOD11 LST)\n",
    "data_series_2 = {'metric_id': 2540047, \n",
    "                 'item_id': 3457, \n",
    "                 'region_id': 100000100, \n",
    "                 'partner_region_id': 0, \n",
    "                 'source_id': 26, \n",
    "                 'frequency_id': 1,\n",
    "                 'unit_id': 36}\n",
    "\n",
    "# Soil moisture - Availability in soil (volume/volume) - US Corn Belt States (ESA SMOS CLF33D)\n",
    "data_series_3 = {'metric_id': 15531082, \n",
    "            'item_id': 7382, \n",
    "            'region_id': 100000100, \n",
    "            'partner_region_id': 0, \n",
    "            'source_id': 43, \n",
    "            'frequency_id': 1}\n",
    "\n",
    "\n",
    "data_series_list = [data_series_1, data_series_2, data_series_3]\n",
    "\n",
    "\n",
    "initial_date = '2019-01-01'\n",
    "final_date = '2019-10-31'"
   ]
  },
  {
   "cell_type": "markdown",
   "metadata": {},
   "source": [
    "## 2. Output<a class=\"anchor\" id=\"link-2\"></a>\n",
    "The output will be a pandas dataframe containg the ranks computed by ensembling several distance calculation method.\n",
    "\n",
    "[Top](#link-0.0)"
   ]
  },
  {
   "cell_type": "code",
   "execution_count": 4,
   "metadata": {
    "scrolled": true
   },
   "outputs": [
    {
     "name": "stderr",
     "output_type": "stream",
     "text": [
      "Feature Extraction: 100%|██████████| 9/9 [00:00<00:00,  5.96it/s]\n",
      "Feature Extraction: 100%|██████████| 9/9 [00:00<00:00,  6.68it/s]\n",
      "Feature Extraction: 100%|██████████| 9/9 [00:00<00:00,  6.67it/s]\n"
     ]
    },
    {
     "data": {
      "text/html": [
       "<div>\n",
       "<style scoped>\n",
       "    .dataframe tbody tr th:only-of-type {\n",
       "        vertical-align: middle;\n",
       "    }\n",
       "\n",
       "    .dataframe tbody tr th {\n",
       "        vertical-align: top;\n",
       "    }\n",
       "\n",
       "    .dataframe thead th {\n",
       "        text-align: right;\n",
       "    }\n",
       "</style>\n",
       "<table border=\"1\" class=\"dataframe\">\n",
       "  <thead>\n",
       "    <tr style=\"text-align: right;\">\n",
       "      <th></th>\n",
       "      <th>composite_rank</th>\n",
       "    </tr>\n",
       "    <tr>\n",
       "      <th>period</th>\n",
       "      <th></th>\n",
       "    </tr>\n",
       "  </thead>\n",
       "  <tbody>\n",
       "    <tr>\n",
       "      <th>2011-01-01 to 2011-10-31</th>\n",
       "      <td>5</td>\n",
       "    </tr>\n",
       "    <tr>\n",
       "      <th>2012-01-01 to 2012-10-31</th>\n",
       "      <td>9</td>\n",
       "    </tr>\n",
       "    <tr>\n",
       "      <th>2013-01-01 to 2013-10-31</th>\n",
       "      <td>2</td>\n",
       "    </tr>\n",
       "    <tr>\n",
       "      <th>2014-01-01 to 2014-10-31</th>\n",
       "      <td>7</td>\n",
       "    </tr>\n",
       "    <tr>\n",
       "      <th>2015-01-01 to 2015-10-31</th>\n",
       "      <td>3</td>\n",
       "    </tr>\n",
       "    <tr>\n",
       "      <th>2016-01-01 to 2016-10-31</th>\n",
       "      <td>6</td>\n",
       "    </tr>\n",
       "    <tr>\n",
       "      <th>2017-01-01 to 2017-10-31</th>\n",
       "      <td>8</td>\n",
       "    </tr>\n",
       "    <tr>\n",
       "      <th>2018-01-01 to 2018-10-31</th>\n",
       "      <td>4</td>\n",
       "    </tr>\n",
       "    <tr>\n",
       "      <th>2019-01-01 to 2019-10-31</th>\n",
       "      <td>1</td>\n",
       "    </tr>\n",
       "  </tbody>\n",
       "</table>\n",
       "</div>"
      ],
      "text/plain": [
       "                          composite_rank\n",
       "period                                  \n",
       "2011-01-01 to 2011-10-31               5\n",
       "2012-01-01 to 2012-10-31               9\n",
       "2013-01-01 to 2013-10-31               2\n",
       "2014-01-01 to 2014-10-31               7\n",
       "2015-01-01 to 2015-10-31               3\n",
       "2016-01-01 to 2016-10-31               6\n",
       "2017-01-01 to 2017-10-31               8\n",
       "2018-01-01 to 2018-10-31               4\n",
       "2019-01-01 to 2019-10-31               1"
      ]
     },
     "execution_count": 4,
     "metadata": {},
     "output_type": "execute_result"
    }
   ],
   "source": [
    "result = final_ranks_computation.analogous_years(\n",
    "    client, data_series_list, initial_date, final_date)\n",
    "result"
   ]
  },
  {
   "cell_type": "markdown",
   "metadata": {},
   "source": [
    "## 3. Appendix<a class=\"anchor\" id=\"link-3\"></a>\n",
    "### 3.1 Methods Of Rank Calculation<a class=\"anchor\" id=\"link-3.1\"></a>\n",
    "The analogy score between two different time periods can be measured in multiple ways. \n",
    "Here, the program can calculate ranks based on 2 primary approaches - \n",
    "1. Ranks based on differences between extracted features: \n",
    "    1. Distance between cumulative sums. \n",
    "    2. Distance between more features extracted from time series. \n",
    "    \n",
    "    Note: For the purpose of this package we have used `tsfresh` package to \n",
    "    extract data from time series. \n",
    "2. Point wise differences: \n",
    "    1. Euclidean distance between stacked time periods. \n",
    "    2. Dynamic Time Warping distance between stacked time periods.\n",
    "    \n",
    "Finally, the program returns a composite rank by default based on the default \n",
    "(`cumulative`, `euclidean`, `ts-features`) methods or user specified methods.\n",
    "\n",
    "[Top](#link-0.0)"
   ]
  },
  {
   "cell_type": "markdown",
   "metadata": {},
   "source": [
    "### 3.2 Additional Options<a class=\"anchor\" id=\"link-3.2\"></a>\n",
    "1. Weights: Users can input different weights associated with different data-series. By default, all the data series are equally weighted.\n",
    "\n",
    "2. Methods: Users have an option to choose from the following methods for distance \n",
    "computation `cumulative`, `euclidean`, `ts-features`, `dtw`. The default methods for rank \n",
    "generation are `cumulative`, `euclidean`, `ts-features`. `dtw` method is intentionally \n",
    "left out of the default setting as it is computationally expensive to run dynamic time warping \n",
    "algorithm on one `item-metric` tuple and in most situations `dtw` ranks are highly \n",
    "correlated with the `euclidean` ranks.\n",
    "\n",
    "3. All Ranks: Users have an option to output multiple individual ranks or an ensemble rank\n",
    "based on their methods list. By default only the ensemble rank will be generated.\n",
    "\n",
    "4. Multivariate El Niño Southern Oscillation (ENSO) index can also be included in the \n",
    "rank computation, along with the weight that the user wants to give for the ENSO index. \n",
    "ENSO is assigned equal weight \n",
    "\n",
    "5. Start Date: Users have an option to exclude time periods before a specified date. By \n",
    "default the earliest date from which data is available for all entities will be used to \n",
    "compute ranks.\n",
    "\n",
    "[Top](#link-0.0)"
   ]
  },
  {
   "cell_type": "code",
   "execution_count": null,
   "metadata": {},
   "outputs": [
    {
     "name": "stderr",
     "output_type": "stream",
     "text": [
      "Feature Extraction: 100%|██████████| 9/9 [00:00<00:00,  6.56it/s]\n",
      "Feature Extraction: 100%|██████████| 9/9 [00:00<00:00,  6.31it/s]\n",
      "Feature Extraction: 100%|██████████| 9/9 [00:00<00:00,  6.65it/s]\n"
     ]
    }
   ],
   "source": [
    "additional_options_result = final_ranks_computation.analogous_years(\n",
    "    client, data_series_list, initial_date, final_date, \n",
    "    methods_list=['cumulative', 'euclidean', 'ts-features', 'dtw'], \n",
    "    all_ranks=True, weights=[0.2, 0.3, 0.4], enso=True,\n",
    "    enso_weight=0.1, provided_start_date='2015-01-01')\n",
    "additional_options_result"
   ]
  },
  {
   "cell_type": "markdown",
   "metadata": {},
   "source": [
    "## 4. Report<a class=\"anchor\" id=\"link-4\"></a>\n",
    "\n",
    "1. Location: Files containing the ranks (and possibly reports) can be saved in a subdirectory under the present working directory (unless a different location is stated). To save the result as a file named `ranks.csv` in the directory of user's choice the user have to run the following block of code.\n",
    "```python\n",
    "output_dir = <output directory>\n",
    "folder_name = final_ranks_computation.get_file_name(\n",
    "    client, \n",
    "    data_series_list, \n",
    "    initial_date=initial_date, \n",
    "    final_date=final_date\n",
    ")\n",
    "final_ranks_computation.save_to_csv(\n",
    "    client, \n",
    "    additional_options_result,\n",
    "    folder_name,\n",
    "    file_name='ranks.csv',\n",
    "    output_dir=output_dir\n",
    ")\n",
    "```\n",
    "2. Report: A correlation matrix as a csv file, together with a png file of pairwise scatter \n",
    "plots between ranks, for selected methods, can be generated and saved in the same folder where the ranks in csv format is saved whenever users opt to generate multiple ranks.\n",
    "```python\n",
    "correlation_matrix = final_ranks_computation.generate_correlation_matrix(\n",
    "    additional_options_result\n",
    ")\n",
    "final_ranks_computation.save_to_csv(\n",
    "    client, \n",
    "    correlation_matrix,\n",
    "    folder_name,\n",
    "    file_name='correlation_matrix.csv',\n",
    "    output_dir=output_dir\n",
    ")\n",
    "final_ranks_computation.generate_correlation_scatterplots(\n",
    "    client, \n",
    "    additional_options_result, \n",
    "    folder_name,\n",
    "    output_dir=output_dir\n",
    ")\n",
    "```\n",
    "\n",
    "\n",
    "### 4.1 Correlation Matrix<a class=\"anchor\" id=\"link-4.1\"></a>\n",
    "Since, we are using a notebook we can generate the report independently. In this section we have computed the `spearman's rank correlation` between the ranks to see if there is any anomaly between the ranks. From our past observations we have found that the `dtw_rank` is highly correlated with `euclidean_rank`. Hence, for computational efficiency we advise the user to avoid `dtw` in the `list_of_methods`.\n",
    "\n",
    "[Top](./get_started_with_analogous_years.ipynb/#link-0.0)"
   ]
  },
  {
   "cell_type": "code",
   "execution_count": null,
   "metadata": {},
   "outputs": [],
   "source": [
    "correlation_matrix = additional_options_result.corr(method='spearman')\n",
    "correlation_matrix"
   ]
  },
  {
   "cell_type": "markdown",
   "metadata": {},
   "source": [
    "### 4.2 Scatterplots Between Ranks<a class=\"anchor\" id=\"link-4.2\"></a>\n",
    "We have used `seaborn` for graphing. The user is free to use other libraries such as `plotly`/ `matplotlib` for graphing. For `plotly` please _uncomment_ the last seven lines of code and _comment out_ the first six lines of code below.\n",
    "\n",
    "[Top](#link-0.0)"
   ]
  },
  {
   "cell_type": "code",
   "execution_count": null,
   "metadata": {},
   "outputs": [],
   "source": [
    "%matplotlib inline\n",
    "import seaborn as sns\n",
    "import matplotlib.pyplot as plt\n",
    "sns.set(style=\"ticks\")\n",
    "sns_plot = sns.pairplot(additional_options_result, diag_kind=None)\n",
    "plt.show()\n",
    "\n",
    "# import plotly.figure_factory as ff\n",
    "# from plotly.offline import iplot, init_notebook_mode\n",
    "# import cufflinks\n",
    "# cufflinks.go_offline(connected = True)\n",
    "# init_notebook_mode(connected = True)\n",
    "# figure = ff.create_scatterplotmatrix(additional_options_result, height=1000, width=1000)\n",
    "# figure.show()"
   ]
  }
 ],
 "metadata": {
  "kernelspec": {
   "display_name": "Python 3",
   "language": "python",
   "name": "python3"
  },
  "language_info": {
   "codemirror_mode": {
    "name": "ipython",
    "version": 3
   },
   "file_extension": ".py",
   "mimetype": "text/x-python",
   "name": "python",
   "nbconvert_exporter": "python",
   "pygments_lexer": "ipython3",
   "version": "3.7.3"
  }
 },
 "nbformat": 4,
 "nbformat_minor": 2
}
