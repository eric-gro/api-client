{
 "cells": [
  {
   "cell_type": "markdown",
   "metadata": {},
   "source": [
    "# At-time query examples"
   ]
  },
  {
   "cell_type": "markdown",
   "metadata": {},
   "source": [
    "## Use case: \"I am backtesting and need to avoid lookahead bias. What data would Gro have had available on each date I am testing?\""
   ]
  },
  {
   "cell_type": "markdown",
   "metadata": {},
   "source": [
    "Data does not usually appear immediately at the end of its period. If a source\n",
    "is reporting a \"total exports\" number for January 1st to December 31st,\n",
    "that data point may not be reported by the source until February of the\n",
    "following year, for example. This is referred to as \"source lag.\" You can\n",
    "inspect a given source's worst-case expected lag using the `lookup()` function,\n",
    "like so: `client.lookup('sources', source_id)['sourceLag']`\n",
    "\n",
    "Gro keeps track of on what date each point was reported, and, using this\n",
    "at_time feature demonstrated below, the `get_data_points()` function can filter\n",
    "out points that would not have been reported yet as of the given date.\n",
    "\n",
    "Data also may be revised after it has been published, as is the case most often\n",
    "with forecasts like the Gro Yield Model that get closer to the true number as\n",
    "the season progresses. The default mode for `get_data_points()` is to give the\n",
    "latest point for each period, since the one reported most recently is the most\n",
    "up-to-date, and presumably most accurate, value. You may, however, want to\n",
    "analyze the historical accuracy of a forecast as the season progressed, and for\n",
    "that you need to know what the latest forecast was at each point you're\n",
    "interested in. For that, you may also use the at_time query demonstrated below."
   ]
  },
  {
   "cell_type": "markdown",
   "metadata": {},
   "source": [
    "See Also\n",
    "--------\n",
    "- `api.client.lib.get_data_points()`\n",
    "- `api.client.lib.lookup()`\n",
    "- https://github.com/gro-intelligence/api-client/wiki/FAQ#q-what-does-sourcelag-mean-when-i-use-clientlookup-to-inspect-a-sources-details\n",
    "- https://github.com/gro-intelligence/api-client/wiki/FAQ#q-how-do-i-see-previous-values-for-a-time-series-point-to-see-how-the-value-changed-over-time"
   ]
  },
  {
   "cell_type": "code",
   "execution_count": 1,
   "metadata": {},
   "outputs": [],
   "source": [
    "import os\n",
    "from api.client.gro_client import GroClient\n",
    "\n",
    "API_HOST = 'api.gro-intelligence.com'\n",
    "ACCESS_TOKEN = os.environ['GROAPI_TOKEN']\n",
    "\n",
    "client = GroClient(API_HOST, ACCESS_TOKEN)"
   ]
  },
  {
   "cell_type": "markdown",
   "metadata": {},
   "source": [
    "## Example #1: LST and sporadic lag"
   ]
  },
  {
   "cell_type": "markdown",
   "metadata": {},
   "source": [
    "For LST, there is a defined worst-case lag for their daily data of 7 days"
   ]
  },
  {
   "cell_type": "code",
   "execution_count": 2,
   "metadata": {},
   "outputs": [
    {
     "name": "stdout",
     "output_type": "stream",
     "text": [
      "{u'daily': u'7d', u'weekly': u'8d'}\n"
     ]
    }
   ],
   "source": [
    "LST = 26\n",
    "print(client.lookup('sources', LST)['sourceLag'])"
   ]
  },
  {
   "cell_type": "markdown",
   "metadata": {},
   "source": [
    "That means that for any given data point, we can typically expect it to be available at any time between the end_date of the point and 7 days after the end date of the point."
   ]
  },
  {
   "cell_type": "markdown",
   "metadata": {},
   "source": [
    "Let's look at a particular series and see how that may vary."
   ]
  },
  {
   "cell_type": "code",
   "execution_count": 3,
   "metadata": {},
   "outputs": [],
   "source": [
    "TEMP=2540047\n",
    "LAND_TEMP=3457\n",
    "IOWA=13066\n",
    "DAILY=1\n",
    "LST=26"
   ]
  },
  {
   "cell_type": "markdown",
   "metadata": {},
   "source": [
    "For LST, typically data is not published by the source same-day. We can see that by requesting the 2018-12-13 point with an \"at_time\" of 2018-12-13"
   ]
  },
  {
   "cell_type": "code",
   "execution_count": 4,
   "metadata": {},
   "outputs": [
    {
     "data": {
      "text/plain": [
       "[]"
      ]
     },
     "execution_count": 4,
     "metadata": {},
     "output_type": "execute_result"
    }
   ],
   "source": [
    "client.get_data_points(\n",
    "    metric_id=TEMP,\n",
    "    item_id=LAND_TEMP,\n",
    "    region_id=IOWA,\n",
    "    frequency_id=DAILY,\n",
    "    source_id=LST,\n",
    "    start_date='2018-12-13',\n",
    "    end_date='2018-12-13',\n",
    "    at_time='2018-12-13'\n",
    ")"
   ]
  },
  {
   "cell_type": "markdown",
   "metadata": {},
   "source": [
    "An empty response is expected, since we are simulating what would have been available on 2018-12-13 and the data for the given day has not been published yet."
   ]
  },
  {
   "cell_type": "markdown",
   "metadata": {},
   "source": [
    "On 2018-12-14 however, the previous day's point is available:"
   ]
  },
  {
   "cell_type": "code",
   "execution_count": 5,
   "metadata": {},
   "outputs": [
    {
     "data": {
      "text/plain": [
       "[{u'end_date': u'2018-12-13T00:00:00.000Z',\n",
       "  u'frequency_id': 1,\n",
       "  u'input_unit_id': 36,\n",
       "  u'input_unit_scale': 1,\n",
       "  u'item_id': 3457,\n",
       "  u'metric_id': 2540047,\n",
       "  u'region_id': 13066,\n",
       "  u'start_date': u'2018-12-13T00:00:00.000Z',\n",
       "  u'unit_id': 36,\n",
       "  u'value': -7.43692102699087}]"
      ]
     },
     "execution_count": 5,
     "metadata": {},
     "output_type": "execute_result"
    }
   ],
   "source": [
    "client.get_data_points(\n",
    "    metric_id=TEMP,\n",
    "    item_id=LAND_TEMP,\n",
    "    region_id=IOWA,\n",
    "    frequency_id=DAILY,\n",
    "    source_id=LST,\n",
    "    start_date='2018-12-13',\n",
    "    end_date='2018-12-13',\n",
    "    at_time='2018-12-14'\n",
    ")"
   ]
  },
  {
   "cell_type": "markdown",
   "metadata": {},
   "source": [
    "So the above case is an example of when source lag is 1 day. Remember when we looked up the source that we have a defined source lag of 7 days. But that is the *worst case* lag and not the average case. So 1 day may be pretty common."
   ]
  },
  {
   "cell_type": "markdown",
   "metadata": {},
   "source": [
    "---"
   ]
  },
  {
   "cell_type": "markdown",
   "metadata": {},
   "source": [
    "Let's look at a case where the lag was more than 1 day:"
   ]
  },
  {
   "cell_type": "markdown",
   "metadata": {},
   "source": [
    "From December of 2018 into January and February of 2019, LST's data was updated sporadically due to the government shutdown."
   ]
  },
  {
   "cell_type": "markdown",
   "metadata": {},
   "source": [
    "If we expect the 2019-01-06 data point to be available on 2019-01-07, assuming a 1-day lag like we saw above, we might be surprised to find that it *still* isn't available, even on 2019-01-10:"
   ]
  },
  {
   "cell_type": "code",
   "execution_count": 6,
   "metadata": {},
   "outputs": [
    {
     "data": {
      "text/plain": [
       "[]"
      ]
     },
     "execution_count": 6,
     "metadata": {},
     "output_type": "execute_result"
    }
   ],
   "source": [
    "client.get_data_points(\n",
    "    metric_id=TEMP,\n",
    "    item_id=LAND_TEMP,\n",
    "    region_id=IOWA,\n",
    "    frequency_id=DAILY,\n",
    "    source_id=LST,\n",
    "    start_date='2019-01-06',\n",
    "    end_date='2019-01-06',\n",
    "    at_time='2019-01-10'\n",
    ")"
   ]
  },
  {
   "cell_type": "markdown",
   "metadata": {},
   "source": [
    "The 2019-01-06 data point was not published until 2019-01-11:"
   ]
  },
  {
   "cell_type": "code",
   "execution_count": 7,
   "metadata": {},
   "outputs": [
    {
     "data": {
      "text/plain": [
       "[{u'end_date': u'2019-01-06T00:00:00.000Z',\n",
       "  u'frequency_id': 1,\n",
       "  u'input_unit_id': 36,\n",
       "  u'input_unit_scale': 1,\n",
       "  u'item_id': 3457,\n",
       "  u'metric_id': 2540047,\n",
       "  u'region_id': 13066,\n",
       "  u'start_date': u'2019-01-06T00:00:00.000Z',\n",
       "  u'unit_id': 36,\n",
       "  u'value': None}]"
      ]
     },
     "execution_count": 7,
     "metadata": {},
     "output_type": "execute_result"
    }
   ],
   "source": [
    "client.get_data_points(\n",
    "    metric_id=TEMP,\n",
    "    item_id=LAND_TEMP,\n",
    "    region_id=IOWA,\n",
    "    frequency_id=DAILY,\n",
    "    source_id=LST,\n",
    "    start_date='2019-01-06',\n",
    "    end_date='2019-01-06',\n",
    "    at_time='2019-01-11'\n",
    ")"
   ]
  },
  {
   "cell_type": "markdown",
   "metadata": {},
   "source": [
    "## Example #2: Gro's Yield Model Intra-season"
   ]
  },
  {
   "cell_type": "markdown",
   "metadata": {},
   "source": [
    "Another common use-case for the at-time query is for predictive models:\n",
    "\n",
    "Using the at-time query, one can input a date to see what the latest prediction up to that point in time was.\n",
    "\n",
    "For example, below we simulate at three points in 2017 what the Gro Yield Model forecasted the ultimate 2017 yield to be:"
   ]
  },
  {
   "cell_type": "code",
   "execution_count": 8,
   "metadata": {},
   "outputs": [
    {
     "name": "stdout",
     "output_type": "stream",
     "text": [
      "On 2017-01-01, there was no Gro Yield Model prediction yet.\n",
      "On 2017-05-18, the latest Gro Yield Model prediction was: 10.5829330646\n",
      "On 2017-09-01, the latest Gro Yield Model prediction was: 10.7690015683\n"
     ]
    }
   ],
   "source": [
    "dates_of_interest = ['2017-01-01', '2017-05-18', '2017-09-01']\n",
    "for date in dates_of_interest:\n",
    "    data_points = client.get_data_points(\n",
    "        metric_id=170037,\n",
    "        item_id=274, # Corn\n",
    "        region_id=1215, # United States\n",
    "        frequency_id=9, # Annual\n",
    "        source_id=32, # Gro Yield Model\n",
    "        start_date='2017-01-01',\n",
    "        end_date='2017-12-31',\n",
    "        at_time=date\n",
    "    )\n",
    "    if(len(data_points)==0):\n",
    "        print(\"On {}, there was no Gro Yield Model prediction yet.\".format(date))\n",
    "    else:\n",
    "        print(\"On {}, the latest Gro Yield Model prediction was: {}\".format(date, data_points[-1]['value']))\n",
    "    "
   ]
  },
  {
   "cell_type": "code",
   "execution_count": null,
   "metadata": {},
   "outputs": [],
   "source": []
  }
 ],
 "metadata": {
  "kernelspec": {
   "display_name": "Python 3",
   "language": "python",
   "name": "python3"
  },
  "language_info": {
   "codemirror_mode": {
    "name": "ipython",
    "version": 3
   },
   "file_extension": ".py",
   "mimetype": "text/x-python",
   "name": "python",
   "nbconvert_exporter": "python",
   "pygments_lexer": "ipython3",
   "version": "3.7.2"
  }
 },
 "nbformat": 4,
 "nbformat_minor": 2
}
